{
 "cells": [
  {
   "cell_type": "code",
   "execution_count": 6,
   "metadata": {},
   "outputs": [
    {
     "data": {
      "text/plain": [
       "array([[ 0.2],\n",
       "       [ 0.5],\n",
       "       [-1.4]])"
      ]
     },
     "execution_count": 6,
     "metadata": {},
     "output_type": "execute_result"
    }
   ],
   "source": [
    "#Muhammed Furkan Baltacı 170101065\n",
    "\n",
    "import numpy as np\n",
    "bias=0\n",
    "ok=2\n",
    "x=np.array([[0,1,0],[0,0,1],[0,1,1]])\n",
    "\n",
    "w=np.array([[0.2],[0.5],[0.6]])\n",
    "\n",
    "d=np.array([[1],[1],[0]])\n",
    "\n",
    "net=np.zeros((1,3),dtype=float)\n",
    "\n",
    "def fnc(value):\n",
    "        if value > 0:\n",
    "            return 1\n",
    "        else:\n",
    "            return 0\n",
    "        \n",
    "        \n",
    "for i in range(0,3):\n",
    "    for j in range(0,3):\n",
    "        net[0][j] = (x[i][j] * np.transpose(w)[0][j]) + bias    \n",
    "        e=d[i] - fnc(net[0][j])\n",
    "        w[i] = w[i]+(ok*e* x[i][j])\n",
    "    \n",
    "\n",
    "w\n"
   ]
  },
  {
   "cell_type": "code",
   "execution_count": null,
   "metadata": {},
   "outputs": [],
   "source": []
  }
 ],
 "metadata": {
  "kernelspec": {
   "display_name": "Python 3",
   "language": "python",
   "name": "python3"
  },
  "language_info": {
   "codemirror_mode": {
    "name": "ipython",
    "version": 3
   },
   "file_extension": ".py",
   "mimetype": "text/x-python",
   "name": "python",
   "nbconvert_exporter": "python",
   "pygments_lexer": "ipython3",
   "version": "3.7.1"
  }
 },
 "nbformat": 4,
 "nbformat_minor": 2
}
